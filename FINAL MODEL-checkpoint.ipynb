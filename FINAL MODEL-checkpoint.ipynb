{
 "cells": [
  {
   "cell_type": "code",
   "execution_count": 2,
   "metadata": {},
   "outputs": [],
   "source": [
    "import pandas as pd\n",
    "import numpy as np"
   ]
  },
  {
   "cell_type": "code",
   "execution_count": 7,
   "metadata": {},
   "outputs": [
    {
     "name": "stdout",
     "output_type": "stream",
     "text": [
      "initial length of dataset 31\n",
      "initial columns of dataset\n",
      "Index(['user', 'churn', 'age', 'housing', 'credit_score', 'deposits',\n",
      "       'withdrawal', 'purchases_partners', 'purchases', 'cc_taken',\n",
      "       'cc_recommended', 'cc_disliked', 'cc_liked', 'cc_application_begin',\n",
      "       'app_downloaded', 'web_user', 'app_web_user', 'ios_user',\n",
      "       'android_user', 'registered_phones', 'payment_type', 'waiting_4_loan',\n",
      "       'cancelled_loan', 'received_loan', 'rejected_loan', 'zodiac_sign',\n",
      "       'left_for_two_month_plus', 'left_for_one_month', 'rewards_earned',\n",
      "       'reward_rate', 'is_referred'],\n",
      "      dtype='object')\n",
      "initial null values in dataset\n",
      "user                       False\n",
      "churn                      False\n",
      "age                         True\n",
      "housing                    False\n",
      "credit_score                True\n",
      "deposits                   False\n",
      "withdrawal                 False\n",
      "purchases_partners         False\n",
      "purchases                  False\n",
      "cc_taken                   False\n",
      "cc_recommended             False\n",
      "cc_disliked                False\n",
      "cc_liked                   False\n",
      "cc_application_begin       False\n",
      "app_downloaded             False\n",
      "web_user                   False\n",
      "app_web_user               False\n",
      "ios_user                   False\n",
      "android_user               False\n",
      "registered_phones          False\n",
      "payment_type               False\n",
      "waiting_4_loan             False\n",
      "cancelled_loan             False\n",
      "received_loan              False\n",
      "rejected_loan              False\n",
      "zodiac_sign                False\n",
      "left_for_two_month_plus    False\n",
      "left_for_one_month         False\n",
      "rewards_earned              True\n",
      "reward_rate                False\n",
      "is_referred                False\n",
      "dtype: bool\n",
      "initial null values count in each column\n",
      "user                          0\n",
      "churn                         0\n",
      "age                           4\n",
      "housing                       0\n",
      "credit_score               8031\n",
      "deposits                      0\n",
      "withdrawal                    0\n",
      "purchases_partners            0\n",
      "purchases                     0\n",
      "cc_taken                      0\n",
      "cc_recommended                0\n",
      "cc_disliked                   0\n",
      "cc_liked                      0\n",
      "cc_application_begin          0\n",
      "app_downloaded                0\n",
      "web_user                      0\n",
      "app_web_user                  0\n",
      "ios_user                      0\n",
      "android_user                  0\n",
      "registered_phones             0\n",
      "payment_type                  0\n",
      "waiting_4_loan                0\n",
      "cancelled_loan                0\n",
      "received_loan                 0\n",
      "rejected_loan                 0\n",
      "zodiac_sign                   0\n",
      "left_for_two_month_plus       0\n",
      "left_for_one_month            0\n",
      "rewards_earned             3227\n",
      "reward_rate                   0\n",
      "is_referred                   0\n",
      "dtype: int64\n",
      "initial dataset head:\n",
      "    user  churn   age housing  credit_score  deposits  withdrawal  \\\n",
      "0  55409      0  37.0      na           NaN         0           0   \n",
      "1  23547      0  28.0       R         486.0         0           0   \n",
      "2  58313      0  35.0       R         561.0        47           2   \n",
      "3   8095      0  26.0       R         567.0        26           3   \n",
      "4  61353      1  27.0      na           NaN         0           0   \n",
      "\n",
      "   purchases_partners  purchases  cc_taken     ...       waiting_4_loan  \\\n",
      "0                   0          0         0     ...                    0   \n",
      "1                   1          0         0     ...                    0   \n",
      "2                  86         47         0     ...                    0   \n",
      "3                  38         25         0     ...                    0   \n",
      "4                   2          0         0     ...                    0   \n",
      "\n",
      "   cancelled_loan  received_loan  rejected_loan  zodiac_sign  \\\n",
      "0               0              0              0          Leo   \n",
      "1               0              0              0          Leo   \n",
      "2               0              0              0    Capricorn   \n",
      "3               0              0              0    Capricorn   \n",
      "4               0              0              0        Aries   \n",
      "\n",
      "   left_for_two_month_plus  left_for_one_month  rewards_earned  reward_rate  \\\n",
      "0                        1                   0             NaN         0.00   \n",
      "1                        0                   0            44.0         1.47   \n",
      "2                        1                   0            65.0         2.17   \n",
      "3                        0                   0            33.0         1.10   \n",
      "4                        1                   0             1.0         0.03   \n",
      "\n",
      "   is_referred  \n",
      "0            0  \n",
      "1            1  \n",
      "2            0  \n",
      "3            1  \n",
      "4            0  \n",
      "\n",
      "[5 rows x 31 columns]\n",
      "initial mean filled dataset head: \n",
      "    user  churn   age housing  credit_score  deposits  withdrawal  \\\n",
      "0  55409      0  37.0      na    542.944225         0           0   \n",
      "1  23547      0  28.0       R    486.000000         0           0   \n",
      "2  58313      0  35.0       R    561.000000        47           2   \n",
      "3   8095      0  26.0       R    567.000000        26           3   \n",
      "4  61353      1  27.0      na    542.944225         0           0   \n",
      "\n",
      "   purchases_partners  purchases  cc_taken     ...       waiting_4_loan  \\\n",
      "0                   0          0         0     ...                    0   \n",
      "1                   1          0         0     ...                    0   \n",
      "2                  86         47         0     ...                    0   \n",
      "3                  38         25         0     ...                    0   \n",
      "4                   2          0         0     ...                    0   \n",
      "\n",
      "   cancelled_loan  received_loan  rejected_loan  zodiac_sign  \\\n",
      "0               0              0              0          Leo   \n",
      "1               0              0              0          Leo   \n",
      "2               0              0              0    Capricorn   \n",
      "3               0              0              0    Capricorn   \n",
      "4               0              0              0        Aries   \n",
      "\n",
      "   left_for_two_month_plus  left_for_one_month  rewards_earned  reward_rate  \\\n",
      "0                        1                   0       29.110125         0.00   \n",
      "1                        0                   0       44.000000         1.47   \n",
      "2                        1                   0       65.000000         2.17   \n",
      "3                        0                   0       33.000000         1.10   \n",
      "4                        1                   0        1.000000         0.03   \n",
      "\n",
      "   is_referred  \n",
      "0            0  \n",
      "1            1  \n",
      "2            0  \n",
      "3            1  \n",
      "4            0  \n",
      "\n",
      "[5 rows x 31 columns]\n",
      "initial median filled dataset head: \n",
      "\n",
      "    user  churn   age housing  credit_score  deposits  withdrawal  \\\n",
      "0  55409      0  37.0      na         542.0         0           0   \n",
      "1  23547      0  28.0       R         486.0         0           0   \n",
      "2  58313      0  35.0       R         561.0        47           2   \n",
      "3   8095      0  26.0       R         567.0        26           3   \n",
      "4  61353      1  27.0      na         542.0         0           0   \n",
      "\n",
      "   purchases_partners  purchases  cc_taken     ...       waiting_4_loan  \\\n",
      "0                   0          0         0     ...                    0   \n",
      "1                   1          0         0     ...                    0   \n",
      "2                  86         47         0     ...                    0   \n",
      "3                  38         25         0     ...                    0   \n",
      "4                   2          0         0     ...                    0   \n",
      "\n",
      "   cancelled_loan  received_loan  rejected_loan  zodiac_sign  \\\n",
      "0               0              0              0          Leo   \n",
      "1               0              0              0          Leo   \n",
      "2               0              0              0    Capricorn   \n",
      "3               0              0              0    Capricorn   \n",
      "4               0              0              0        Aries   \n",
      "\n",
      "   left_for_two_month_plus  left_for_one_month  rewards_earned  reward_rate  \\\n",
      "0                        1                   0            25.0         0.00   \n",
      "1                        0                   0            44.0         1.47   \n",
      "2                        1                   0            65.0         2.17   \n",
      "3                        0                   0            33.0         1.10   \n",
      "4                        1                   0             1.0         0.03   \n",
      "\n",
      "   is_referred  \n",
      "0            0  \n",
      "1            1  \n",
      "2            0  \n",
      "3            1  \n",
      "4            0  \n",
      "\n",
      "[5 rows x 31 columns]\n",
      "initial removed nan values dataset head: \n",
      "\n",
      "    user  churn   age housing  deposits  withdrawal  purchases_partners  \\\n",
      "1  23547      0  28.0       R         0           0                   1   \n",
      "2  58313      0  35.0       R        47           2                  86   \n",
      "3   8095      0  26.0       R        26           3                  38   \n",
      "4  61353      1  27.0      na         0           0                   2   \n",
      "5   3120      1  32.0       R         5           3                 111   \n",
      "\n",
      "   purchases  cc_taken  cc_recommended     ...      waiting_4_loan  \\\n",
      "1          0         0              96     ...                   0   \n",
      "2         47         0             285     ...                   0   \n",
      "3         25         0              74     ...                   0   \n",
      "4          0         0               0     ...                   0   \n",
      "5          5         0             227     ...                   0   \n",
      "\n",
      "   cancelled_loan  received_loan  rejected_loan  zodiac_sign  \\\n",
      "1               0              0              0          Leo   \n",
      "2               0              0              0    Capricorn   \n",
      "3               0              0              0    Capricorn   \n",
      "4               0              0              0        Aries   \n",
      "5               0              0              0       Taurus   \n",
      "\n",
      "   left_for_two_month_plus  left_for_one_month  rewards_earned  reward_rate  \\\n",
      "1                        0                   0            44.0         1.47   \n",
      "2                        1                   0            65.0         2.17   \n",
      "3                        0                   0            33.0         1.10   \n",
      "4                        1                   0             1.0         0.03   \n",
      "5                        0                   0            55.0         1.83   \n",
      "\n",
      "  is_referred  \n",
      "1           1  \n",
      "2           0  \n",
      "3           1  \n",
      "4           0  \n",
      "5           0  \n",
      "\n",
      "[5 rows x 30 columns]\n"
     ]
    },
    {
     "name": "stdout",
     "output_type": "stream",
     "text": [
      "columns of dataset without nan:45\n",
      "columns of dataset with mean: 46\n",
      "rows in data without nan 23773\n",
      "rows in data with mean 27000\n",
      "rows in data with median 46\n"
     ]
    }
   ],
   "source": [
    "#data pre processing \n",
    "#removing nan values, filling nan values with mean, filling nan values with median\n",
    "dataset=pd.read_csv('E:\\MACHINE LEARNING\\churn_data.csv')\n",
    "print(\"initial length of dataset \"+str(len(dataset.columns)))\n",
    "print(\"initial columns of dataset\")\n",
    "print(dataset.columns)\n",
    "print(\"initial null values in dataset\")\n",
    "print(dataset.isna().any())\n",
    "print(\"initial null values count in each column\")\n",
    "print(dataset.isna().sum())\n",
    "data_with_mean = dataset.fillna(dataset.mean())\n",
    "print(\"initial dataset head:\")\n",
    "print(dataset.head())\n",
    "print(\"initial mean filled dataset head: \")\n",
    "print(data_with_mean.head())\n",
    "data_with_median = dataset.fillna(dataset.median())\n",
    "print(\"initial median filled dataset head: \\n\")\n",
    "print(data_with_median.head())\n",
    "data_without_nan = dataset.drop(columns=['credit_score'])\n",
    "data_without_nan = data_without_nan[pd.notnull(data_without_nan['age'])]\n",
    "data_without_nan = data_without_nan[pd.notnull(data_without_nan['rewards_earned'])]\n",
    "print(\"initial removed nan values dataset head: \\n\")\n",
    "print(data_without_nan.head())\n",
    "data_without_nan = pd.get_dummies(data_without_nan)\n",
    "data_without_nan = data_without_nan.drop(columns=['housing_na','payment_type_na','zodiac_sign_na'])\n",
    "print(\"columns of dataset without nan:\"+str(len(data_without_nan.columns)))\n",
    "data_with_mean = pd.get_dummies(data_with_mean)\n",
    "data_with_mean = data_with_mean.drop(columns=['housing_na','payment_type_na','zodiac_sign_na'])\n",
    "print(\"columns of dataset with mean: \"+str(len(data_with_mean.columns)))\n",
    "print(\"rows in data without nan \"+str(len(data_without_nan)))\n",
    "print(\"rows in data with mean \"+str(len(data_with_mean)))\n",
    "data_with_median = pd.get_dummies(data_with_median)\n",
    "data_with_median = data_with_median.drop(columns=['housing_na','payment_type_na','zodiac_sign_na'])\n",
    "print(\"rows in data with median \"+str(len(data_with_median.columns)))"
   ]
  },
  {
   "cell_type": "code",
   "execution_count": 3,
   "metadata": {},
   "outputs": [],
   "source": [
    "from sklearn import preprocessing"
   ]
  },
  {
   "cell_type": "code",
   "execution_count": 4,
   "metadata": {},
   "outputs": [],
   "source": [
    "from sklearn.decomposition import PCA"
   ]
  },
  {
   "cell_type": "code",
   "execution_count": 5,
   "metadata": {},
   "outputs": [],
   "source": [
    "from sklearn.model_selection import train_test_split"
   ]
  },
  {
   "cell_type": "code",
   "execution_count": 6,
   "metadata": {},
   "outputs": [],
   "source": [
    "from sklearn.linear_model import LogisticRegressionCV"
   ]
  },
  {
   "cell_type": "code",
   "execution_count": 8,
   "metadata": {},
   "outputs": [],
   "source": [
    "#normalization of data \n",
    "#with nan\n",
    "data_without_nan=data_without_nan.drop(columns=['user'],axis=1)\n",
    "churn_without_nan = data_without_nan['churn']\n",
    "data_without_nan=data_without_nan.drop(columns=['churn'],axis=1)\n",
    "normalized_data_without_nan = preprocessing.normalize(data_without_nan)\n",
    "#with mean\n",
    "data_with_mean=data_with_mean.drop(columns=['user'],axis=1)\n",
    "churn_with_mean = data_with_mean['churn']\n",
    "data_with_mean=data_with_mean.drop(columns=['churn'],axis=1)\n",
    "normalized_data_with_mean = preprocessing.normalize(data_with_mean)\n",
    "#with median\n",
    "data_with_median=data_with_median.drop(columns=['user'],axis=1)\n",
    "churn_with_median = data_with_median['churn']\n",
    "data_with_median=data_with_median.drop(columns=['churn'],axis=1)\n",
    "normalized_data_with_median = preprocessing.normalize(data_with_median)"
   ]
  },
  {
   "cell_type": "code",
   "execution_count": 9,
   "metadata": {},
   "outputs": [
    {
     "name": "stdout",
     "output_type": "stream",
     "text": [
      "with mean\n",
      "(27000, 44)\n",
      "without nan\n",
      "(23773, 43)\n",
      "with median\n",
      "(27000, 44)\n"
     ]
    }
   ],
   "source": [
    "#shape after normalization and removal of columns\n",
    "print(\"with mean\")\n",
    "print(normalized_data_with_mean.shape)\n",
    "print(\"without nan\")\n",
    "print(normalized_data_without_nan.shape)\n",
    "print(\"with median\")\n",
    "print(normalized_data_with_median.shape)\n"
   ]
  },
  {
   "cell_type": "code",
   "execution_count": 10,
   "metadata": {},
   "outputs": [
    {
     "name": "stdout",
     "output_type": "stream",
     "text": [
      "without nan\n",
      "(23773, 35)\n",
      "with mean\n",
      "(27000, 24)\n",
      "with mean\n",
      "(27000, 24)\n"
     ]
    }
   ],
   "source": [
    "#PCA without nan\n",
    "pca = PCA(n_components=0.9999, svd_solver='full')\n",
    "pca.fit(normalized_data_without_nan)\n",
    "pca_data_without_nan=pca.transform(normalized_data_without_nan)\n",
    "print(\"without nan\")\n",
    "print(pca_data_without_nan.shape)\n",
    "#with mean\n",
    "pca.fit(normalized_data_with_mean)\n",
    "pca_data_with_mean=pca.transform(normalized_data_with_mean)\n",
    "print(\"with mean\")\n",
    "print(pca_data_with_mean.shape)\n",
    "#with median\n",
    "pca.fit(normalized_data_with_median)\n",
    "pca_data_with_median=pca.transform(normalized_data_with_median)\n",
    "print(\"with mean\")\n",
    "print(pca_data_with_median.shape)"
   ]
  },
  {
   "cell_type": "code",
   "execution_count": 13,
   "metadata": {},
   "outputs": [],
   "source": [
    "x_train_without_nan, x_test_without_nan, y_train_without_nan, y_test_without_nan = train_test_split(pca_data_without_nan, churn_without_nan, test_size=0.10, random_state=0)\n",
    "x_train_with_mean, x_test_with_mean, y_train_with_mean, y_test_with_mean = train_test_split(pca_data_with_mean, churn_with_mean, test_size=0.10, random_state=0)\n",
    "x_train_with_median, x_test_with_median, y_train_with_median, y_test_with_median = train_test_split(pca_data_with_median, churn_with_median, test_size=0.10, random_state=0)\n",
    "lr = LogisticRegressionCV(max_iter=10000)"
   ]
  },
  {
   "cell_type": "code",
   "execution_count": 27,
   "metadata": {},
   "outputs": [
    {
     "name": "stderr",
     "output_type": "stream",
     "text": [
      "C:\\anaconda\\lib\\site-packages\\sklearn\\model_selection\\_split.py:2053: FutureWarning: You should specify a value for 'cv' instead of relying on the default value. The default value will change from 3 to 5 in version 0.22.\n",
      "  warnings.warn(CV_WARNING, FutureWarning)\n"
     ]
    },
    {
     "name": "stdout",
     "output_type": "stream",
     "text": [
      "0.6942809083263246\n",
      "[[  0.7683146   -3.38520372   0.39786484  -2.00038336  -0.8125417\n",
      "    1.26022661  10.80580499   2.25335356   8.25989396  -3.63052947\n",
      "   14.12748022 -12.64594677   0.10926226   9.91231252   9.81753468\n",
      "   -2.10652394   9.03667844   5.63298441  -1.86900439   4.59910016\n",
      "   -1.45139734   4.42805636  -1.82451503  -0.53215643  -4.27343393\n",
      "    0.18181594   5.49959746   1.69084712   1.39863614  10.12824605\n",
      "   -5.05543704   5.01893705   0.88881379   3.02758584  10.82948661]]\n"
     ]
    }
   ],
   "source": [
    "lr.fit(x_train_without_nan, y_train_without_nan)\n",
    "predictions = lr.predict(x_test_without_nan)\n",
    "score = lr.score(x_test_without_nan, y_test_without_nan)\n",
    "print(score)\n",
    "print(lr.coef_)"
   ]
  },
  {
   "cell_type": "code",
   "execution_count": 28,
   "metadata": {
    "scrolled": true
   },
   "outputs": [
    {
     "name": "stderr",
     "output_type": "stream",
     "text": [
      "C:\\anaconda\\lib\\site-packages\\sklearn\\model_selection\\_split.py:2053: FutureWarning: You should specify a value for 'cv' instead of relying on the default value. The default value will change from 3 to 5 in version 0.22.\n",
      "  warnings.warn(CV_WARNING, FutureWarning)\n"
     ]
    },
    {
     "name": "stdout",
     "output_type": "stream",
     "text": [
      "0.6403703703703704\n",
      "[[-3.31790057e+00 -9.49602289e+00 -1.68752561e+00 -2.31699646e+00\n",
      "   5.40848011e+00  7.16603348e+00 -1.16366452e+00  6.88249947e+01\n",
      "   4.24810249e+00 -6.91825814e+00  6.80270645e+01 -3.78206566e+01\n",
      "  -2.10440601e+01  3.36429196e+01  5.47926985e+00  2.23490474e+01\n",
      "   1.67813520e+01 -3.71815790e+01 -8.88640891e+00  8.96738210e+00\n",
      "   2.35828203e+00  8.18614779e-03  6.34516681e+00  2.88246715e+00]]\n"
     ]
    }
   ],
   "source": [
    "lr.fit(x_train_with_mean, y_train_with_mean)\n",
    "predictions = lr.predict(x_test_with_mean)\n",
    "score = lr.score(x_test_with_mean, y_test_with_mean)\n",
    "print(score)\n",
    "print(lr.coef_)"
   ]
  },
  {
   "cell_type": "code",
   "execution_count": 29,
   "metadata": {},
   "outputs": [
    {
     "name": "stderr",
     "output_type": "stream",
     "text": [
      "C:\\anaconda\\lib\\site-packages\\sklearn\\model_selection\\_split.py:2053: FutureWarning: You should specify a value for 'cv' instead of relying on the default value. The default value will change from 3 to 5 in version 0.22.\n",
      "  warnings.warn(CV_WARNING, FutureWarning)\n"
     ]
    },
    {
     "name": "stdout",
     "output_type": "stream",
     "text": [
      "0.6388888888888888\n",
      "[[ -3.3194858   -9.53966426  -1.75489681  -1.49556166   6.37086252\n",
      "    7.40653095  -0.83961141  68.82284469   4.15319119  -6.79512664\n",
      "   67.54815791 -37.99646647 -20.74225978  33.60890967   6.28316314\n",
      "   23.30859521  15.5606189  -36.62319097  -6.75950721   8.79719486\n",
      "    0.97248248   6.34631565  -2.56137877   1.056527  ]]\n"
     ]
    }
   ],
   "source": [
    "lr.fit(x_train_with_median, y_train_with_median)\n",
    "predictions = lr.predict(x_test_with_median)\n",
    "score = lr.score(x_test_with_median, y_test_with_median)\n",
    "print(score)\n",
    "print(lr.coef_)"
   ]
  },
  {
   "cell_type": "code",
   "execution_count": 30,
   "metadata": {},
   "outputs": [],
   "source": [
    "#without pca\n",
    "x_train_without_nan, x_test_without_nan, y_train_without_nan, y_test_without_nan = train_test_split(normalized_data_without_nan, churn_without_nan, test_size=0.10, random_state=0)\n",
    "x_train_with_mean, x_test_with_mean, y_train_with_mean, y_test_with_mean = train_test_split(normalized_data_with_mean, churn_with_mean, test_size=0.10, random_state=0)\n",
    "x_train_with_median, x_test_with_median, y_train_with_median, y_test_with_median = train_test_split(normalized_data_with_median, churn_with_median, test_size=0.10, random_state=0)"
   ]
  },
  {
   "cell_type": "code",
   "execution_count": 31,
   "metadata": {},
   "outputs": [
    {
     "name": "stderr",
     "output_type": "stream",
     "text": [
      "C:\\anaconda\\lib\\site-packages\\sklearn\\model_selection\\_split.py:2053: FutureWarning: You should specify a value for 'cv' instead of relying on the default value. The default value will change from 3 to 5 in version 0.22.\n",
      "  warnings.warn(CV_WARNING, FutureWarning)\n"
     ]
    },
    {
     "name": "stdout",
     "output_type": "stream",
     "text": [
      "0.6925988225399495\n",
      "[[ 0.79318502  2.12338649  8.05919022 -3.0432279  -4.45802258 10.11741211\n",
      "   1.48046419 -0.60997579  1.43431484  0.76476504 16.47714153  6.45695053\n",
      "   5.89873131  7.64437783  3.19231893  6.74989409 -3.01021823 10.2238733\n",
      "  11.02761015 11.3244116  10.90956054  7.6813093   0.18751291 11.07669964\n",
      "   3.20531592 -5.16718542  7.03565983 -1.8154291  -1.66585871  0.28111\n",
      "   8.8798351  -2.27728938  1.68214536  3.81101944  1.25280171 -5.07743012\n",
      "   0.26059376  1.2909293   5.12869436  0.70931115  0.88011839 -0.83930571\n",
      "   1.34208175]]\n"
     ]
    },
    {
     "name": "stderr",
     "output_type": "stream",
     "text": [
      "C:\\anaconda\\lib\\site-packages\\sklearn\\model_selection\\_split.py:2053: FutureWarning: You should specify a value for 'cv' instead of relying on the default value. The default value will change from 3 to 5 in version 0.22.\n",
      "  warnings.warn(CV_WARNING, FutureWarning)\n"
     ]
    },
    {
     "name": "stdout",
     "output_type": "stream",
     "text": [
      "0.6474074074074074\n",
      "[[  -6.17390317    0.70123778   17.13318994   27.29063889  -10.9037452\n",
      "   -26.54916375   87.61143382    1.07035063   -8.12250236  -35.04109263\n",
      "     0.51848484  245.02745704  447.96458803 -296.83393397  130.28596685\n",
      "    59.3289355    60.19314415  -45.53246606  305.55066938  316.77356778\n",
      "   323.39067356   92.74833482  178.90472474   -3.53158042  -87.68722487\n",
      "    23.2075208   -75.43952951   73.36889121   -6.05662816   21.76298431\n",
      "     5.27863087  118.07014084  -16.39855845   65.54309387   87.17223938\n",
      "    95.68822548   20.58337448   48.59720922   25.56082148  100.66927834\n",
      "    59.94061516   33.15271085   19.50055644   55.83464441]]\n"
     ]
    },
    {
     "name": "stderr",
     "output_type": "stream",
     "text": [
      "C:\\anaconda\\lib\\site-packages\\sklearn\\model_selection\\_split.py:2053: FutureWarning: You should specify a value for 'cv' instead of relying on the default value. The default value will change from 3 to 5 in version 0.22.\n",
      "  warnings.warn(CV_WARNING, FutureWarning)\n"
     ]
    },
    {
     "name": "stdout",
     "output_type": "stream",
     "text": [
      "0.6396296296296297\n",
      "[[ -5.02664945  -0.74325374  10.73725866  27.44285819 -10.99227815\n",
      "  -20.37460641  62.13541685   0.57833038  -9.47894706  -9.61698909\n",
      "    0.72321419  54.24484738 122.26638982  18.964759    62.42791709\n",
      "    3.83060657  64.80414997  -5.68463039  74.96829865  71.27811685\n",
      "   46.71286802  75.4930291   42.75325006  -4.24675378 -54.64858561\n",
      "   18.2428201  -39.83209146  61.08243774  -6.91122121   5.14094202\n",
      "   -4.50319002  85.64830531 -25.57411994  19.45179463  34.20537532\n",
      "   17.63083467   1.91762895  10.99382242  -3.63562809  41.35615106\n",
      "   17.37843891  -1.1073722   -7.63660634  14.75185354]]\n"
     ]
    }
   ],
   "source": [
    "lr.fit(x_train_without_nan, y_train_without_nan)\n",
    "predictions = lr.predict(x_test_without_nan)\n",
    "score = lr.score(x_test_without_nan, y_test_without_nan)\n",
    "print(score)\n",
    "print(lr.coef_)\n",
    "lr.fit(x_train_with_mean, y_train_with_mean)\n",
    "predictions = lr.predict(x_test_with_mean)\n",
    "score = lr.score(x_test_with_mean, y_test_with_mean)\n",
    "print(score)\n",
    "print(lr.coef_)\n",
    "lr.fit(x_train_with_median, y_train_with_median)\n",
    "predictions = lr.predict(x_test_with_median)\n",
    "score = lr.score(x_test_with_median, y_test_with_median)\n",
    "print(score)\n",
    "print(lr.coef_)"
   ]
  },
  {
   "cell_type": "code",
   "execution_count": 1,
   "metadata": {},
   "outputs": [],
   "source": [
    "from sklearn.svm import SVC\n",
    "from sklearn.metrics import accuracy_score"
   ]
  },
  {
   "cell_type": "code",
   "execution_count": 14,
   "metadata": {},
   "outputs": [
    {
     "name": "stderr",
     "output_type": "stream",
     "text": [
      "C:\\anaconda\\lib\\site-packages\\sklearn\\svm\\base.py:196: FutureWarning: The default value of gamma will change from 'auto' to 'scale' in version 0.22 to account better for unscaled features. Set gamma explicitly to 'auto' or 'scale' to avoid this warning.\n",
      "  \"avoid this warning.\", FutureWarning)\n"
     ]
    },
    {
     "name": "stdout",
     "output_type": "stream",
     "text": [
      "Test Data Accuracy for SVM with gaussian kernel: 0.6758\n"
     ]
    }
   ],
   "source": [
    "clf = SVC(kernel='rbf') \n",
    "clf.fit(x_train_without_nan, y_train_without_nan)\n",
    "y_pred = clf.predict(x_test_without_nan)\n",
    "print(\"Test Data Accuracy for SVM with gaussian kernel: %0.4f\" % accuracy_score(y_test_without_nan, y_pred))"
   ]
  },
  {
   "cell_type": "code",
   "execution_count": 15,
   "metadata": {},
   "outputs": [
    {
     "name": "stderr",
     "output_type": "stream",
     "text": [
      "C:\\anaconda\\lib\\site-packages\\sklearn\\svm\\base.py:196: FutureWarning: The default value of gamma will change from 'auto' to 'scale' in version 0.22 to account better for unscaled features. Set gamma explicitly to 'auto' or 'scale' to avoid this warning.\n",
      "  \"avoid this warning.\", FutureWarning)\n"
     ]
    },
    {
     "name": "stdout",
     "output_type": "stream",
     "text": [
      "Test Data Accuracy for SVM with gaussian kernel: 0.5907\n"
     ]
    }
   ],
   "source": [
    "clf = SVC(kernel='rbf') \n",
    "clf.fit(x_train_with_mean, y_train_with_mean)\n",
    "y_pred = clf.predict(x_test_with_mean)\n",
    "print(\"Test Data Accuracy for SVM with gaussian kernel: %0.4f\" % accuracy_score(y_test_with_mean, y_pred))"
   ]
  },
  {
   "cell_type": "code",
   "execution_count": 16,
   "metadata": {},
   "outputs": [
    {
     "name": "stderr",
     "output_type": "stream",
     "text": [
      "C:\\anaconda\\lib\\site-packages\\sklearn\\svm\\base.py:196: FutureWarning: The default value of gamma will change from 'auto' to 'scale' in version 0.22 to account better for unscaled features. Set gamma explicitly to 'auto' or 'scale' to avoid this warning.\n",
      "  \"avoid this warning.\", FutureWarning)\n"
     ]
    },
    {
     "name": "stdout",
     "output_type": "stream",
     "text": [
      "Test Data Accuracy for SVM with gaussian kernel: 0.5907\n"
     ]
    }
   ],
   "source": [
    "clf = SVC(kernel='rbf') \n",
    "clf.fit(x_train_with_median, y_train_with_median)\n",
    "y_pred = clf.predict(x_test_with_median)\n",
    "print(\"Test Data Accuracy for SVM with gaussian kernel: %0.4f\" % accuracy_score(y_test_with_median, y_pred))"
   ]
  },
  {
   "cell_type": "code",
   "execution_count": 17,
   "metadata": {},
   "outputs": [],
   "source": [
    "from sklearn.neural_network import MLPClassifier\n",
    "from sklearn.metrics import classification_report, confusion_matrix\n"
   ]
  },
  {
   "cell_type": "code",
   "execution_count": null,
   "metadata": {},
   "outputs": [],
   "source": [
    "mlp = MLPClassifier(hidden_layer_sizes=(36, 36, 36,36,36,36,36), max_iter=100000)  \n",
    "mlp.fit(x_train_without_nan, y_train_without_nan)\n",
    "predictions = mlp.predict(x_test_without_nan)\n",
    "print(accuracy_score(y_test_without_nan, y_pred))\n",
    "#print(classification_report(y_test_without_nan,predictions))"
   ]
  },
  {
   "cell_type": "code",
   "execution_count": null,
   "metadata": {},
   "outputs": [],
   "source": [
    "print(x_train_without_nan.shape)"
   ]
  },
  {
   "cell_type": "code",
   "execution_count": null,
   "metadata": {},
   "outputs": [],
   "source": []
  }
 ],
 "metadata": {
  "kernelspec": {
   "display_name": "Python 3",
   "language": "python",
   "name": "python3"
  },
  "language_info": {
   "codemirror_mode": {
    "name": "ipython",
    "version": 3
   },
   "file_extension": ".py",
   "mimetype": "text/x-python",
   "name": "python",
   "nbconvert_exporter": "python",
   "pygments_lexer": "ipython3",
   "version": "3.7.1"
  }
 },
 "nbformat": 4,
 "nbformat_minor": 2
}
