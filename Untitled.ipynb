{
 "cells": [
  {
   "cell_type": "code",
   "execution_count": 3,
   "metadata": {},
   "outputs": [],
   "source": [
    "import numpy as np\n",
    "import pandas as pd\n",
    "from sklearn import preprocessing\n",
    "data = pd.read_csv('C:/Users/Dosajh/Documents/Python Scripts/Minimizing churn rate/new_churn_data.csv')\n",
    "import random\n",
    "user = data['user']\n",
    "data = data.drop(columns='user')\n",
    "data = pd.get_dummies(data)\n",
    "data = data.drop(columns = ['housing_na', 'zodiac_sign_na', 'payment_type_na'])\n",
    "from sklearn.model_selection import train_test_split\n",
    "\n",
    "X_train, X_test, y_train, y_test = train_test_split(data.drop(columns = 'churn'), data['churn'],test_size = 0.2,random_state = 0)\n",
    "pos_index = y_train[y_train.values == 1].index\n",
    "neg_index = y_train[y_train.values == 0].index\n",
    "if len(pos_index) > len(neg_index):\n",
    "    higher = pos_index\n",
    "    lower = neg_index\n",
    "else:\n",
    "    higher = neg_index\n",
    "    lower = pos_index\n",
    "random.seed(0)\n",
    "higher = np.random.choice(higher, size=len(lower))\n",
    "lower = np.asarray(lower)\n",
    "new_indexes = np.concatenate((lower, higher))\n",
    "X_train = X_train.loc[new_indexes,]\n",
    "y_train = y_train[new_indexes]\n",
    "x_train=preprocessing.normalize(X_train)\n",
    "x_test = preprocessing.normalize(X_test)"
   ]
  },
  {
   "cell_type": "code",
   "execution_count": 10,
   "metadata": {},
   "outputs": [
    {
     "name": "stdout",
     "output_type": "stream",
     "text": [
      "[[1713  514]\n",
      " [ 639  927]]\n",
      "              precision    recall  f1-score   support\n",
      "\n",
      "           0       0.73      0.77      0.75      2227\n",
      "           1       0.64      0.59      0.62      1566\n",
      "\n",
      "   micro avg       0.70      0.70      0.70      3793\n",
      "   macro avg       0.69      0.68      0.68      3793\n",
      "weighted avg       0.69      0.70      0.69      3793\n",
      "\n"
     ]
    }
   ],
   "source": [
    "from sklearn.neural_network import MLPClassifier\n",
    "from sklearn.metrics import classification_report, confusion_matrix  \n",
    "mlp = MLPClassifier(hidden_layer_sizes=(20, 20, 20,20,20), max_iter=1000)  \n",
    "mlp.fit(x_train, y_train)\n",
    "predictions = mlp.predict(x_test)\n",
    "print(classification_report(y_test,predictions))  "
   ]
  },
  {
   "cell_type": "code",
   "execution_count": 11,
   "metadata": {},
   "outputs": [],
   "source": [
    "mlp = MLPClassifier(hidden_layer_sizes=(31, 31, 31,31,31,31,31,31,31,31), max_iter=1000)  \n",
    "mlp.fit(x_train, y_train)\n",
    "predictions = mlp.predict(x_test)"
   ]
  },
  {
   "cell_type": "code",
   "execution_count": 12,
   "metadata": {},
   "outputs": [
    {
     "name": "stdout",
     "output_type": "stream",
     "text": [
      "              precision    recall  f1-score   support\n",
      "\n",
      "           0       0.70      0.83      0.76      2227\n",
      "           1       0.67      0.50      0.57      1566\n",
      "\n",
      "   micro avg       0.69      0.69      0.69      3793\n",
      "   macro avg       0.69      0.66      0.67      3793\n",
      "weighted avg       0.69      0.69      0.68      3793\n",
      "\n"
     ]
    }
   ],
   "source": [
    "print(classification_report(y_test,predictions))  "
   ]
  },
  {
   "cell_type": "code",
   "execution_count": 13,
   "metadata": {},
   "outputs": [],
   "source": [
    "mlp = MLPClassifier(hidden_layer_sizes=(31,31, 31,31,31,31,31,31,31,31,31,31,31,31,31,31,31), max_iter=1000)  \n",
    "mlp.fit(x_train, y_train)\n",
    "predictions = mlp.predict(x_test)"
   ]
  },
  {
   "cell_type": "code",
   "execution_count": 16,
   "metadata": {},
   "outputs": [
    {
     "data": {
      "text/plain": [
       "(12476, 41)"
      ]
     },
     "execution_count": 16,
     "metadata": {},
     "output_type": "execute_result"
    }
   ],
   "source": [
    "x_train.shape"
   ]
  },
  {
   "cell_type": "code",
   "execution_count": 17,
   "metadata": {},
   "outputs": [
    {
     "name": "stdout",
     "output_type": "stream",
     "text": [
      "              precision    recall  f1-score   support\n",
      "\n",
      "           0       0.76      0.70      0.73      2227\n",
      "           1       0.62      0.68      0.65      1566\n",
      "\n",
      "   micro avg       0.69      0.69      0.69      3793\n",
      "   macro avg       0.69      0.69      0.69      3793\n",
      "weighted avg       0.70      0.69      0.69      3793\n",
      "\n"
     ]
    }
   ],
   "source": [
    "print(classification_report(y_test,predictions))  "
   ]
  },
  {
   "cell_type": "code",
   "execution_count": 18,
   "metadata": {},
   "outputs": [],
   "source": [
    "mlp = MLPClassifier(hidden_layer_sizes=(41,41,41,41,41), max_iter=1000)  \n",
    "mlp.fit(x_train, y_train)\n",
    "predictions = mlp.predict(x_test)"
   ]
  },
  {
   "cell_type": "code",
   "execution_count": 19,
   "metadata": {},
   "outputs": [
    {
     "name": "stdout",
     "output_type": "stream",
     "text": [
      "              precision    recall  f1-score   support\n",
      "\n",
      "           0       0.74      0.76      0.75      2227\n",
      "           1       0.64      0.62      0.63      1566\n",
      "\n",
      "   micro avg       0.70      0.70      0.70      3793\n",
      "   macro avg       0.69      0.69      0.69      3793\n",
      "weighted avg       0.70      0.70      0.70      3793\n",
      "\n"
     ]
    }
   ],
   "source": [
    "print(classification_report(y_test,predictions))  "
   ]
  },
  {
   "cell_type": "code",
   "execution_count": null,
   "metadata": {},
   "outputs": [],
   "source": [
    "mlp = MLPClassifier(hidden_layer_sizes=(41,41,41,41,41,41,41,41,41), max_iter=1000)  \n",
    "mlp.fit(x_train, y_train)\n",
    "predictions = mlp.predict(x_test)"
   ]
  },
  {
   "cell_type": "code",
   "execution_count": null,
   "metadata": {},
   "outputs": [],
   "source": [
    "print(classification_report(y_test,predictions))  "
   ]
  }
 ],
 "metadata": {
  "kernelspec": {
   "display_name": "Python 3",
   "language": "python",
   "name": "python3"
  },
  "language_info": {
   "codemirror_mode": {
    "name": "ipython",
    "version": 3
   },
   "file_extension": ".py",
   "mimetype": "text/x-python",
   "name": "python",
   "nbconvert_exporter": "python",
   "pygments_lexer": "ipython3",
   "version": "3.7.1"
  }
 },
 "nbformat": 4,
 "nbformat_minor": 2
}
